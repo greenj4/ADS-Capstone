{
    "nbformat_minor": 1, 
    "cells": [
        {
            "source": "# Los Angeles (South Bay) Urgent Care Location Analysis", 
            "cell_type": "markdown", 
            "metadata": {}
        }, 
        {
            "source": "<img src=\"https://drive.google.com/uc?export=view&id=1O3SzuGYbGyk_rQaTG3Dp3yR3yx8SNaVH\" alt=\"Alt text\" title=\"Title text\" />", 
            "cell_type": "markdown", 
            "metadata": {}
        }, 
        {
            "source": "## Introduction - Business Problem\n\n<br>\nI am planning to open an Urgent Care somewhere in the South Bay of Los Angeles, however I am unsure of which neighborhood to select. I want to make sure I select a neigbhorhood that has an adequate population and is not saturated with other Urgent Care offices. While this analysis is relevant to myself, it could be similarly applied to anyone looking for an ideal location for their business by simply altering the Foursquare Categories they are retrieving.\n<br>\n\n## Data Used\n\nThe data I will begin with is a CSV table of Los Angeles neighborhoods from the IRS. The table contains the Neighborhood name, Zip Code, Population and District. See below for an example:\n\n<img src=\"https://drive.google.com/uc?export=view&id=1kJxShMVRjH3IORmAA-j_e7hVbDmGE82D\" alt=\"Alt text\" title=\"Title text\" />\n<br>\n\nI will also be using a second table of latitude and longitude values by zip code. See an example below:\n\n<img src=\"https://drive.google.com/uc?export=view&id=15BhY2n_7h_fD4EKlLp4zL2rnq5PS9S4z\" alt=\"Alt text\" title=\"Title text\" />\n\n<br>\n\n## Methodology\n\n<br>\n\nI will take the following steps in my analysis:\n1. Import CSVs into pandas dataframes\n2. Format the dataframs and merge along Zip Code\n3. Create and execute a function to send location data to Foursquare API and return only Urgent Care Centers\n4. Create a new dataframe that combines Neighborhood, Population, and count of Urgent Care Centers by 10,000 population (divide the count of centers by the neighborhood population and multiply by 10,000)\n5. Compare and Analyze\n<br>\n\n## Results\n\n<br>\n\nThe results of the data analysis are displayed below:\n\n<img src=\"https://drive.google.com/uc?export=view&id=1xTsAl1wpos4_9pkF774fEIoCK4ryQzVZ\" alt=\"Alt text\" title=\"Title text\" />\n\n<br>\n\n## Discussion\n\n<br>\n\nAfter conducting this analysis it is clear that certain neighbhorhoods have significatnly more Urgent Cares per capita than others. For example Rancho Palos Verdes and Inglewood have roughly .17 Urgent Care locations per 10,000 residents, while Marina Del Rey and Redondo Beach have over 3.5 locations per 10,000 residents. While this information alone should not be used to determine the optimal location for the business, it does shed light on the level of competition that will be present in the area. I believe this analysis is a good first step to identify a potential \"short-list\" of neighborhoods that should be further analyzed (i.e. accessibility, cost of rent, affluency, etc) prior to finalizing the selection of the neighbhorhood.\n\nAdditionally, given that the average number of centers in the whole area is 1.7/10,000 it may be prudent to conduct further analysis to determine why the high and low areas have more and less locations currently.\n\n<br>\n\n## Conclusion\n\n<br>\n\nIn conclusion this has been a successful analysis that has delivered actionable results that can be used in my location selection for the Urgent Care center. \n\nAll calculations can be found below.", 
            "cell_type": "markdown", 
            "metadata": {}
        }, 
        {
            "source": "#### ALL DATA ANALYSIS CALCULATIONS ", 
            "cell_type": "markdown", 
            "metadata": {}
        }, 
        {
            "execution_count": 1, 
            "cell_type": "code", 
            "metadata": {
                "scrolled": true
            }, 
            "outputs": [
                {
                    "output_type": "stream", 
                    "name": "stdout", 
                    "text": "Requirement already satisfied: geopy in /opt/conda/envs/Python36/lib/python3.6/site-packages (1.18.1)\nRequirement already satisfied: geographiclib<2,>=1.49 in /opt/conda/envs/Python36/lib/python3.6/site-packages (from geopy) (1.49)\nCollecting folium\n\u001b[?25l  Downloading https://files.pythonhosted.org/packages/72/ff/004bfe344150a064e558cb2aedeaa02ecbf75e60e148a55a9198f0c41765/folium-0.10.0-py2.py3-none-any.whl (91kB)\n\u001b[K     |\u2588\u2588\u2588\u2588\u2588\u2588\u2588\u2588\u2588\u2588\u2588\u2588\u2588\u2588\u2588\u2588\u2588\u2588\u2588\u2588\u2588\u2588\u2588\u2588\u2588\u2588\u2588\u2588\u2588\u2588\u2588\u2588| 92kB 16.1MB/s eta 0:00:01\n\u001b[?25hRequirement already satisfied: jinja2>=2.9 in /opt/conda/envs/Python36/lib/python3.6/site-packages (from folium) (2.10)\nRequirement already satisfied: requests in /opt/conda/envs/Python36/lib/python3.6/site-packages (from folium) (2.21.0)\nRequirement already satisfied: numpy in /opt/conda/envs/Python36/lib/python3.6/site-packages (from folium) (1.15.4)\nCollecting branca>=0.3.0 (from folium)\n  Downloading https://files.pythonhosted.org/packages/63/36/1c93318e9653f4e414a2e0c3b98fc898b4970e939afeedeee6075dd3b703/branca-0.3.1-py3-none-any.whl\nRequirement already satisfied: MarkupSafe>=0.23 in /opt/conda/envs/Python36/lib/python3.6/site-packages (from jinja2>=2.9->folium) (1.1.0)\nRequirement already satisfied: idna<2.9,>=2.5 in /opt/conda/envs/Python36/lib/python3.6/site-packages (from requests->folium) (2.8)\nRequirement already satisfied: certifi>=2017.4.17 in /opt/conda/envs/Python36/lib/python3.6/site-packages (from requests->folium) (2019.6.16)\nRequirement already satisfied: urllib3<1.25,>=1.21.1 in /opt/conda/envs/Python36/lib/python3.6/site-packages (from requests->folium) (1.24.1)\nRequirement already satisfied: chardet<3.1.0,>=3.0.2 in /opt/conda/envs/Python36/lib/python3.6/site-packages (from requests->folium) (3.0.4)\nRequirement already satisfied: six in /opt/conda/envs/Python36/lib/python3.6/site-packages (from branca>=0.3.0->folium) (1.12.0)\nInstalling collected packages: branca, folium\nSuccessfully installed branca-0.3.1 folium-0.10.0\nLibraries imported.\n"
                }
            ], 
            "source": "!pip install geopy\n!pip install folium\nimport pandas as pd\nimport numpy as np\nimport requests\nimport matplotlib.cm as cm\nimport matplotlib.colors as colors\nfrom sklearn.cluster import KMeans\nfrom geopy.geocoders import Nominatim\nimport folium # map rendering library\nprint('Libraries imported.')"
        }, 
        {
            "source": "## IMPORT DATA CSV", 
            "cell_type": "markdown", 
            "metadata": {}
        }, 
        {
            "execution_count": 2, 
            "cell_type": "code", 
            "metadata": {}, 
            "outputs": [
                {
                    "execution_count": 2, 
                    "metadata": {}, 
                    "data": {
                        "text/html": "<div>\n<style scoped>\n    .dataframe tbody tr th:only-of-type {\n        vertical-align: middle;\n    }\n\n    .dataframe tbody tr th {\n        vertical-align: top;\n    }\n\n    .dataframe thead th {\n        text-align: right;\n    }\n</style>\n<table border=\"1\" class=\"dataframe\">\n  <thead>\n    <tr style=\"text-align: right;\">\n      <th></th>\n      <th>Neighborhood</th>\n      <th>Zip</th>\n      <th>Population</th>\n      <th>District</th>\n    </tr>\n  </thead>\n  <tbody>\n    <tr>\n      <th>0</th>\n      <td>Inglewood</td>\n      <td>90009</td>\n      <td>58104</td>\n      <td>4</td>\n    </tr>\n    <tr>\n      <th>1</th>\n      <td>HERMOSA BEACH</td>\n      <td>90254</td>\n      <td>125328</td>\n      <td>4</td>\n    </tr>\n    <tr>\n      <th>2</th>\n      <td>MANHATTAN BEACH</td>\n      <td>90266</td>\n      <td>221231</td>\n      <td>4</td>\n    </tr>\n    <tr>\n      <th>3</th>\n      <td>PALOS VERDES PENINSULA</td>\n      <td>90274</td>\n      <td>287764</td>\n      <td>4</td>\n    </tr>\n    <tr>\n      <th>4</th>\n      <td>RANCHO PALOS VERDES</td>\n      <td>90275</td>\n      <td>142191</td>\n      <td>4</td>\n    </tr>\n  </tbody>\n</table>\n</div>", 
                        "text/plain": "             Neighborhood    Zip  Population  District\n0               Inglewood  90009       58104         4\n1           HERMOSA BEACH  90254      125328         4\n2         MANHATTAN BEACH  90266      221231         4\n3  PALOS VERDES PENINSULA  90274      287764         4\n4     RANCHO PALOS VERDES  90275      142191         4"
                    }, 
                    "output_type": "execute_result"
                }
            ], 
            "source": "# The code was removed by Watson Studio for sharing."
        }, 
        {
            "source": "# IMPORT LAT/LONG CSV FILE", 
            "cell_type": "markdown", 
            "metadata": {}
        }, 
        {
            "execution_count": 3, 
            "cell_type": "code", 
            "metadata": {}, 
            "outputs": [
                {
                    "execution_count": 3, 
                    "metadata": {}, 
                    "data": {
                        "text/html": "<div>\n<style scoped>\n    .dataframe tbody tr th:only-of-type {\n        vertical-align: middle;\n    }\n\n    .dataframe tbody tr th {\n        vertical-align: top;\n    }\n\n    .dataframe thead th {\n        text-align: right;\n    }\n</style>\n<table border=\"1\" class=\"dataframe\">\n  <thead>\n    <tr style=\"text-align: right;\">\n      <th></th>\n      <th>Zipcode</th>\n      <th>Lat</th>\n      <th>Long</th>\n    </tr>\n  </thead>\n  <tbody>\n    <tr>\n      <th>0</th>\n      <td>96162</td>\n      <td>39.30</td>\n      <td>-120.31</td>\n    </tr>\n    <tr>\n      <th>1</th>\n      <td>96161</td>\n      <td>39.33</td>\n      <td>-120.24</td>\n    </tr>\n    <tr>\n      <th>2</th>\n      <td>96160</td>\n      <td>39.32</td>\n      <td>-120.18</td>\n    </tr>\n    <tr>\n      <th>3</th>\n      <td>96158</td>\n      <td>38.92</td>\n      <td>-119.96</td>\n    </tr>\n    <tr>\n      <th>4</th>\n      <td>96157</td>\n      <td>38.94</td>\n      <td>-119.97</td>\n    </tr>\n  </tbody>\n</table>\n</div>", 
                        "text/plain": "   Zipcode    Lat    Long\n0    96162  39.30 -120.31\n1    96161  39.33 -120.24\n2    96160  39.32 -120.18\n3    96158  38.92 -119.96\n4    96157  38.94 -119.97"
                    }, 
                    "output_type": "execute_result"
                }
            ], 
            "source": "\n\nbody = client_f32f5c4920084615b15c4d597e57d07c.get_object(Bucket='applieddatasciencecapstone-donotdelete-pr-3zecmyooy6vd6w',Key='latlong-1.csv')['Body']\n# add missing __iter__ method, so pandas accepts body as file-like object\nif not hasattr(body, \"__iter__\"): body.__iter__ = types.MethodType( __iter__, body )\n\nlat_long = pd.read_csv(body)\nlat_long.head()\n"
        }, 
        {
            "source": "# FORMAT AND MERGE", 
            "cell_type": "markdown", 
            "metadata": {}
        }, 
        {
            "execution_count": 4, 
            "cell_type": "code", 
            "metadata": {}, 
            "outputs": [], 
            "source": "\nla_data.rename(columns={'Zip': 'Zipcode'}, inplace=True)\nla_data.set_index('Zipcode')\nlat_long.set_index('Zipcode')\ncomboLA = pd.merge(la_data, lat_long, on='Zipcode')\n\n# Create neighboarhood and population datafram for later use\ncomboLAgrp = comboLA.drop(['Zipcode', 'Lat','Long','District'], axis=1)\ncomboLAgrp = comboLAgrp.groupby('Neighborhood').sum()"
        }, 
        {
            "source": "# SET FOURSQUARE PARAMETERS", 
            "cell_type": "markdown", 
            "metadata": {}
        }, 
        {
            "execution_count": 5, 
            "cell_type": "code", 
            "metadata": {}, 
            "outputs": [], 
            "source": "\nCLIENT_ID = 'AKCX2GTFV10033CD3WV2BEJMD1OCM2DOP0JWBMPGTNW54G0B' # your Foursquare ID\nCLIENT_SECRET = 'UGZADPTBYFFWVG5R31GBEQBFKZTUGC5UMVGSYPXTI2C0GEGK' # your Foursquare Secret\nVERSION = '20180605' # Foursquare API version"
        }, 
        {
            "execution_count": 6, 
            "cell_type": "code", 
            "metadata": {}, 
            "outputs": [], 
            "source": "CATID = '56aa371be4b08b9a8d573526'\nLIMIT = 50"
        }, 
        {
            "source": "# DEFINE FUNCTION TO PROCESS GET REQUESTS", 
            "cell_type": "markdown", 
            "metadata": {}
        }, 
        {
            "execution_count": 7, 
            "cell_type": "code", 
            "metadata": {}, 
            "outputs": [], 
            "source": "\n\ndef getNearbyVenues(names, latitudes, longitudes, radius=5000):\n    \n    venues_list=[]\n    for name, lat, lng in zip(names, latitudes, longitudes):\n        print(name)\n            \n        # create the API request URL\n        url = 'https://api.foursquare.com/v2/venues/explore?&client_id={}&client_secret={}&v={}&ll={},{}&radius={}&limit={}&categoryId={}'.format(\n            CLIENT_ID, \n            CLIENT_SECRET, \n            VERSION, \n            lat, \n            lng, \n            radius, \n            LIMIT,\n            CATID)\n            \n        # make the GET request\n        results = requests.get(url).json()[\"response\"]['groups'][0]['items']\n        \n        # return only relevant information for each nearby venue\n        venues_list.append([(\n            name, \n            lat, \n            lng, \n            v['venue']['name'], \n            v['venue']['location']['lat'], \n            v['venue']['location']['lng'],  \n            v['venue']['categories'][0]['name']) for v in results])\n\n    nearby_venues = pd.DataFrame([item for venue_list in venues_list for item in venue_list])\n    nearby_venues.columns = ['Neighborhood', \n                  'Neighborhood Latitude', \n                  'Neighborhood Longitude', \n                  'Venue', \n                  'Venue Latitude', \n                  'Venue Longitude', \n                  'Venue Category']\n    \n    return(nearby_venues)"
        }, 
        {
            "source": "# LOOP AND RETURN VALUES\n", 
            "cell_type": "markdown", 
            "metadata": {}
        }, 
        {
            "execution_count": 8, 
            "cell_type": "code", 
            "metadata": {}, 
            "outputs": [
                {
                    "output_type": "stream", 
                    "name": "stdout", 
                    "text": "Inglewood\nHERMOSA BEACH\nMANHATTAN BEACH\nPALOS VERDES PENINSULA\nRANCHO PALOS VERDES\nREDONDO BEACH\nREDONDO BEACH\nTORRANCE\nTORRANCE\nMARINA DEL REY\nPLAYA DEL REY\nINGLEWOOD\nINGLEWOOD\nINGLEWOOD\nSANTA MONICA\nTORRANCE\nHARBOR CITY\nWILMINGTON\nCARSON\nCARSON\nHAWTHORNE\nLAWNDALE\n"
                }
            ], 
            "source": "\nla_venues = getNearbyVenues(names=comboLA['Neighborhood'],\n                                   latitudes=comboLA['Lat'],\n                                   longitudes=comboLA['Long']\n                                  )"
        }, 
        {
            "source": "# CONSOLIDATE NUMBER OF LOCATIONS AND NEIGHBORHOOD\n", 
            "cell_type": "markdown", 
            "metadata": {}
        }, 
        {
            "execution_count": 9, 
            "cell_type": "code", 
            "metadata": {}, 
            "outputs": [], 
            "source": "consol_venue = la_venues['Neighborhood'].value_counts()"
        }, 
        {
            "source": "# CREATE NEW DATAFRAME THAT COMBINES Neighborhood, Count, and Population \n", 
            "cell_type": "markdown", 
            "metadata": {}
        }, 
        {
            "execution_count": 10, 
            "cell_type": "code", 
            "metadata": {}, 
            "outputs": [], 
            "source": "\nLAfinal = pd.DataFrame({'Neighborhood':consol_venue.index, 'Urgent Care Count':consol_venue.values, 'Population':comboLAgrp.Population}).set_index('Neighborhood')"
        }, 
        {
            "source": "# Add value for urgent cares per 10,000 residents", 
            "cell_type": "markdown", 
            "metadata": {}
        }, 
        {
            "execution_count": 11, 
            "cell_type": "code", 
            "metadata": {}, 
            "outputs": [], 
            "source": "\nLAfinal['UC per 10,000'] = LAfinal['Urgent Care Count']/LAfinal['Population']*10000"
        }, 
        {
            "source": "# sort values so that the neighborhood with the fewest urgent care locations per 10,000 residents are towards the top", 
            "cell_type": "markdown", 
            "metadata": {}
        }, 
        {
            "execution_count": 12, 
            "cell_type": "code", 
            "metadata": {}, 
            "outputs": [
                {
                    "execution_count": 12, 
                    "metadata": {}, 
                    "data": {
                        "text/html": "<div>\n<style scoped>\n    .dataframe tbody tr th:only-of-type {\n        vertical-align: middle;\n    }\n\n    .dataframe tbody tr th {\n        vertical-align: top;\n    }\n\n    .dataframe thead th {\n        text-align: right;\n    }\n</style>\n<table border=\"1\" class=\"dataframe\">\n  <thead>\n    <tr style=\"text-align: right;\">\n      <th></th>\n      <th>Urgent Care Count</th>\n      <th>Population</th>\n      <th>UC per 10,000</th>\n    </tr>\n    <tr>\n      <th>Neighborhood</th>\n      <th></th>\n      <th></th>\n      <th></th>\n    </tr>\n  </thead>\n  <tbody>\n    <tr>\n      <th>RANCHO PALOS VERDES</th>\n      <td>3</td>\n      <td>175631</td>\n      <td>0.170813</td>\n    </tr>\n    <tr>\n      <th>Inglewood</th>\n      <td>5</td>\n      <td>287764</td>\n      <td>0.173753</td>\n    </tr>\n    <tr>\n      <th>CARSON</th>\n      <td>4</td>\n      <td>172386</td>\n      <td>0.232037</td>\n    </tr>\n    <tr>\n      <th>WILMINGTON</th>\n      <td>4</td>\n      <td>142191</td>\n      <td>0.281312</td>\n    </tr>\n    <tr>\n      <th>HAWTHORNE</th>\n      <td>3</td>\n      <td>104474</td>\n      <td>0.287153</td>\n    </tr>\n    <tr>\n      <th>LAWNDALE</th>\n      <td>7</td>\n      <td>221231</td>\n      <td>0.316411</td>\n    </tr>\n    <tr>\n      <th>PALOS VERDES PENINSULA</th>\n      <td>4</td>\n      <td>93632</td>\n      <td>0.427204</td>\n    </tr>\n    <tr>\n      <th>HARBOR CITY</th>\n      <td>6</td>\n      <td>109454</td>\n      <td>0.548175</td>\n    </tr>\n    <tr>\n      <th>INGLEWOOD</th>\n      <td>11</td>\n      <td>125328</td>\n      <td>0.877697</td>\n    </tr>\n    <tr>\n      <th>MANHATTAN BEACH</th>\n      <td>3</td>\n      <td>33307</td>\n      <td>0.900712</td>\n    </tr>\n    <tr>\n      <th>SANTA MONICA</th>\n      <td>11</td>\n      <td>104897</td>\n      <td>1.048648</td>\n    </tr>\n    <tr>\n      <th>PLAYA DEL REY</th>\n      <td>9</td>\n      <td>58104</td>\n      <td>1.548947</td>\n    </tr>\n    <tr>\n      <th>HERMOSA BEACH</th>\n      <td>7</td>\n      <td>36498</td>\n      <td>1.917913</td>\n    </tr>\n    <tr>\n      <th>TORRANCE</th>\n      <td>28</td>\n      <td>91417</td>\n      <td>3.062888</td>\n    </tr>\n    <tr>\n      <th>MARINA DEL REY</th>\n      <td>13</td>\n      <td>36787</td>\n      <td>3.533857</td>\n    </tr>\n    <tr>\n      <th>REDONDO BEACH</th>\n      <td>18</td>\n      <td>46977</td>\n      <td>3.831662</td>\n    </tr>\n  </tbody>\n</table>\n</div>", 
                        "text/plain": "                        Urgent Care Count  Population  UC per 10,000\nNeighborhood                                                        \nRANCHO PALOS VERDES                     3      175631       0.170813\nInglewood                               5      287764       0.173753\nCARSON                                  4      172386       0.232037\nWILMINGTON                              4      142191       0.281312\nHAWTHORNE                               3      104474       0.287153\nLAWNDALE                                7      221231       0.316411\nPALOS VERDES PENINSULA                  4       93632       0.427204\nHARBOR CITY                             6      109454       0.548175\nINGLEWOOD                              11      125328       0.877697\nMANHATTAN BEACH                         3       33307       0.900712\nSANTA MONICA                           11      104897       1.048648\nPLAYA DEL REY                           9       58104       1.548947\nHERMOSA BEACH                           7       36498       1.917913\nTORRANCE                               28       91417       3.062888\nMARINA DEL REY                         13       36787       3.533857\nREDONDO BEACH                          18       46977       3.831662"
                    }, 
                    "output_type": "execute_result"
                }
            ], 
            "source": "LAfinal.sort_values(by=['UC per 10,000'])"
        }
    ], 
    "metadata": {
        "kernelspec": {
            "display_name": "Python 3.6", 
            "name": "python3", 
            "language": "python"
        }, 
        "language_info": {
            "mimetype": "text/x-python", 
            "nbconvert_exporter": "python", 
            "version": "3.6.8", 
            "name": "python", 
            "file_extension": ".py", 
            "pygments_lexer": "ipython3", 
            "codemirror_mode": {
                "version": 3, 
                "name": "ipython"
            }
        }
    }, 
    "nbformat": 4
}