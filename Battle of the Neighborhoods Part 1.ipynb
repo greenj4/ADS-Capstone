{
    "nbformat_minor": 1, 
    "cells": [
        {
            "source": "# Los Angeles Urgent Care Location Analysis", 
            "cell_type": "markdown", 
            "metadata": {
                "collapsed": true
            }
        }, 
        {
            "source": "Business Problem\n\nI am planning to open an Urgent Care somewhere in the South Bay of Los Angeles, however I am unsure of which neighborhood to select. \nI want to make sure I select a neigbhorhood that has an adequate population and is not saturated with other Urgent Care offices. ", 
            "cell_type": "markdown", 
            "metadata": {}
        }, 
        {
            "source": "Data\n\nI will start with a CSV file of Los Angeles neighborhoods that includes name, zip code, and population. I will then append the Lat/Long values to the table and use foursquare to identify the number of Urgent Care Centers per capita (10,000) in each Neighborhood within a range of 5000 meters.", 
            "cell_type": "markdown", 
            "metadata": {}
        }, 
        {
            "execution_count": null, 
            "cell_type": "code", 
            "metadata": {}, 
            "outputs": [], 
            "source": ""
        }
    ], 
    "metadata": {
        "kernelspec": {
            "display_name": "Python 3.6", 
            "name": "python3", 
            "language": "python"
        }, 
        "language_info": {
            "mimetype": "text/x-python", 
            "nbconvert_exporter": "python", 
            "version": "3.6.8", 
            "name": "python", 
            "file_extension": ".py", 
            "pygments_lexer": "ipython3", 
            "codemirror_mode": {
                "version": 3, 
                "name": "ipython"
            }
        }
    }, 
    "nbformat": 4
}